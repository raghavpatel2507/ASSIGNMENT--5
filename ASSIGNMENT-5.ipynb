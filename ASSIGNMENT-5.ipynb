{
 "cells": [
  {
   "cell_type": "code",
   "execution_count": 1,
   "id": "b63431f6-fd28-45bc-b6f5-fc38f856e421",
   "metadata": {},
   "outputs": [],
   "source": [
    "#Q-1\n",
    "\n",
    "# Python was created by Guido van Rossum, and first released on February 20, 1991."
   ]
  },
  {
   "cell_type": "code",
   "execution_count": 2,
   "id": "33c1260d-cb1b-403c-8dc9-e5e01ffd9c27",
   "metadata": {},
   "outputs": [],
   "source": [
    "#Q-2\n",
    "# Python is an interpreted programming language, supporting object-oriented, structured, and functional programming."
   ]
  },
  {
   "cell_type": "code",
   "execution_count": 3,
   "id": "067c83de-0733-4a47-a14b-e4d468990d8d",
   "metadata": {},
   "outputs": [],
   "source": [
    "#Q-3\n",
    "#Yes, Python is a case-sensitive language, i.e., it treats uppercase and lowercase characters differently."
   ]
  },
  {
   "cell_type": "code",
   "execution_count": 4,
   "id": "4e7eb1d8-b821-4b3a-b348-7567a0f5c1ec",
   "metadata": {},
   "outputs": [],
   "source": [
    "#Q-4\n",
    "# .py extension is a python file\n"
   ]
  },
  {
   "cell_type": "code",
   "execution_count": 6,
   "id": "252ddac4-bc17-4c1d-a6bd-7d2c0746d036",
   "metadata": {},
   "outputs": [],
   "source": [
    "#Q-5\n",
    "# python code is interpreted"
   ]
  },
  {
   "cell_type": "code",
   "execution_count": 7,
   "id": "dc6ae740-c36a-4337-afba-c892ee633f94",
   "metadata": {},
   "outputs": [],
   "source": [
    "#Q-6\n",
    "# blocks are: a module, a function body, and a class definition..\n"
   ]
  },
  {
   "cell_type": "code",
   "execution_count": 9,
   "id": "a5099e9c-c03c-4420-8b7d-89edc8dfe3f3",
   "metadata": {},
   "outputs": [],
   "source": [
    "#Q-7\n",
    "# charcter use to a single line comments"
   ]
  },
  {
   "cell_type": "code",
   "execution_count": 11,
   "id": "23c06bdc-1d60-45a8-82c2-3a422bbe36a2",
   "metadata": {},
   "outputs": [],
   "source": [
    "#Q-8\n",
    "# The function sys. version can help us to find the version of python that we are currently working on"
   ]
  },
  {
   "cell_type": "code",
   "execution_count": 13,
   "id": "98e549de-0091-46cc-913c-7d8333c1c359",
   "metadata": {},
   "outputs": [],
   "source": [
    "#Q-9\n",
    "# lambda function "
   ]
  },
  {
   "cell_type": "code",
   "execution_count": 14,
   "id": "2dfaf1cb-2db8-41a2-a4e4-ac47e751e26b",
   "metadata": {},
   "outputs": [],
   "source": [
    "#Q-10\n",
    "# pip is a install a package"
   ]
  },
  {
   "cell_type": "code",
   "execution_count": 16,
   "id": "58553376-7056-4a00-90e4-e8003d2e769a",
   "metadata": {},
   "outputs": [],
   "source": [
    "# Q-11\n",
    "# abs(),filter(),map(),dir(),len()....\n"
   ]
  },
  {
   "cell_type": "code",
   "execution_count": 18,
   "id": "6a66dfe4-a0a2-413f-9a47-49e2f0fd4ed0",
   "metadata": {},
   "outputs": [],
   "source": [
    "# Q-12\n",
    "#The maximum is 256 characters."
   ]
  },
  {
   "cell_type": "code",
   "execution_count": 19,
   "id": "29af7241-d41b-4a8a-8bcd-db0fed5847fa",
   "metadata": {},
   "outputs": [],
   "source": [
    "# Q-13\n",
    "# data science,web devlopment....."
   ]
  },
  {
   "cell_type": "code",
   "execution_count": 20,
   "id": "3991db55-cb80-4c33-9108-8493d03de3be",
   "metadata": {},
   "outputs": [],
   "source": [
    "#Q-14\n",
    "# Memory management in Python involves a private heap containing all Python objects and data structures. \n",
    "# The management of this private heap is ensured internally by the Python memory manager."
   ]
  },
  {
   "cell_type": "code",
   "execution_count": 21,
   "id": "e6aa6fc2-0d31-45bd-95bc-44c40d579cd1",
   "metadata": {},
   "outputs": [],
   "source": [
    "# Q-15\n",
    "#In the section entitled User Variables, double-click on the entry that says Path. \n",
    "#Another window will pop up showing a list of paths. Click the New button and paste the path to your Python executable there.\n",
    "#Once that's inserted, select your newly added path and click the Move Up button until it's at the top."
   ]
  },
  {
   "cell_type": "code",
   "execution_count": null,
   "id": "7899d88b-cba4-46ac-aea2-869cd6fd28c0",
   "metadata": {},
   "outputs": [],
   "source": [
    "# Q-16\n",
    "# "
   ]
  }
 ],
 "metadata": {
  "kernelspec": {
   "display_name": "Python 3 (ipykernel)",
   "language": "python",
   "name": "python3"
  },
  "language_info": {
   "codemirror_mode": {
    "name": "ipython",
    "version": 3
   },
   "file_extension": ".py",
   "mimetype": "text/x-python",
   "name": "python",
   "nbconvert_exporter": "python",
   "pygments_lexer": "ipython3",
   "version": "3.10.8"
  }
 },
 "nbformat": 4,
 "nbformat_minor": 5
}
